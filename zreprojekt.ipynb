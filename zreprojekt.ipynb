{
  "nbformat": 4,
  "nbformat_minor": 0,
  "metadata": {
    "colab": {
      "provenance": []
    },
    "kernelspec": {
      "name": "python3",
      "display_name": "Python 3"
    },
    "language_info": {
      "name": "python"
    }
  },
  "cells": [
    {
      "cell_type": "markdown",
      "source": [
        "# ZRE Projekt - 2023\n",
        "#### Honza Černocký a Honza Pavlus, FIT VUT Brno, 2023\n",
        "#### ` Celkem bodů 29`\n",
        "---\n",
        "\n",
        "Principem projektu oprava signálů narušených klipováním pomocí lineární predikce nebo jiných technik. Nachystali jsme 100 signálů z TIMITu tak, že máte k disposici originál i klipovanou verzi. Klipovaná verze simuluje ztrátu nejvyššího bitu. Signály a seznam viz https://www.fit.vutbr.cz/study/courses/ZRE/public/2022-23/. \n",
        "\n",
        "Projekt doporučujeme řešit v Pythonu v Google Colab, ale je možné použít i jiný jazyk / prostředí, v tomto případě prosím zašlete protokol a zdrojáky emailem.  \n",
        "\n",
        "---\n",
        "\n"
      ],
      "metadata": {
        "id": "_gWXWrmcppeS"
      }
    },
    {
      "cell_type": "code",
      "source": [
        "# nacteni signalu a listu, at to nemusite hledat\n",
        "!wget https://www.fit.vutbr.cz/study/courses/ZRE/public/2022-23/proj_zre_2023.tgz   \n",
        "!tar xfz proj_zre_2023.tgz\n",
        "!ls"
      ],
      "metadata": {
        "colab": {
          "base_uri": "https://localhost:8080/"
        },
        "id": "5cjqGGmbbsI2",
        "outputId": "642b3984-5f6a-4aec-9a56-b32ba38b23cd"
      },
      "execution_count": null,
      "outputs": [
        {
          "output_type": "stream",
          "name": "stdout",
          "text": [
            "--2023-03-30 12:25:48--  https://www.fit.vutbr.cz/study/courses/ZRE/public/2022-23/proj_zre_2023.tgz\n",
            "Resolving www.fit.vutbr.cz (www.fit.vutbr.cz)... 147.229.9.23, 2001:67c:1220:809::93e5:917\n",
            "Connecting to www.fit.vutbr.cz (www.fit.vutbr.cz)|147.229.9.23|:443... connected.\n",
            "HTTP request sent, awaiting response... 200 OK\n",
            "Length: 12170967 (12M) [application/x-gtar]\n",
            "Saving to: ‘proj_zre_2023.tgz’\n",
            "\n",
            "proj_zre_2023.tgz   100%[===================>]  11.61M   272KB/s    in 49s     \n",
            "\n",
            "2023-03-30 12:26:40 (240 KB/s) - ‘proj_zre_2023.tgz’ saved [12170967/12170967]\n",
            "\n",
            "clipped_signals    orig_signals       sample_data\n",
            "list_students.txt  proj_zre_2023.tgz\n"
          ]
        }
      ]
    },
    {
      "cell_type": "markdown",
      "source": [
        "## Úloha 1 - Detektor klipovaných signálů - `2 body `\n",
        "\n",
        "Navrhněte a naprogramujte detektor klipovaných částí signálu. Pozor, klipované mohou být jak kladné, tak záporné vzorky. Zobrazte několik příkladů těchto klipovaných částí v časové a ve frekvenční oblasti (spektrogram). \n",
        "\n",
        "---"
      ],
      "metadata": {
        "id": "Uyxg0WC0poqc"
      }
    },
    {
      "cell_type": "markdown",
      "source": [
        "### Vaše řešení:\n",
        "\n",
        "Popište vaše řešení"
      ],
      "metadata": {
        "id": "03pBjCk0rrTI"
      }
    },
    {
      "cell_type": "code",
      "source": [
        "# Místo pro kód"
      ],
      "metadata": {
        "id": "BFyI3xxBp2i_"
      },
      "execution_count": null,
      "outputs": []
    },
    {
      "cell_type": "markdown",
      "source": [
        "## Úloha 2 - Výpočet SNR - `2 body `\n",
        "\n",
        "Napište funkci pro výpočet poměru signálu k šumu, kde šum (jmenovatel) bude chyba (rozdíl mezi klipovaným signálem a originálem) a signál (čitatel) je originální signál. Spočítejte SNR způsobené klipováním pro všech 100 signálů. Berte je v úvahu celé, nejen klipované části.\n",
        "\n",
        "---\n"
      ],
      "metadata": {
        "id": "ryM04KCyp2Nt"
      }
    },
    {
      "cell_type": "markdown",
      "source": [
        "### Vaše řešení:\n",
        "\n",
        "Popište vaše řešení"
      ],
      "metadata": {
        "id": "yLJ2O3e2rr1H"
      }
    },
    {
      "cell_type": "code",
      "source": [
        "# Místo pro kód"
      ],
      "metadata": {
        "id": "yE2cCux8p9X_"
      },
      "execution_count": null,
      "outputs": []
    },
    {
      "cell_type": "markdown",
      "source": [
        "## Úloha 3 - Oprava pomocí predikce zleva - ` 5 bodů`\n",
        "\n",
        "Napište funkci, která bude opravovat klipované části. Měla by pracovat tak, že na L=240 vzorcích signálu před klipovanou částí odhadne koeficienty prediktoru a ten využije k náhradě klipovaných vzorků predikcí z minulosti. Vyberte 2 opravené segmenty a zobrazte je. Připravte dvě promluvy k přehrání (pokud budete pracovat v Py notebooku, přímo v něm, pokud v něčem jiném, jako několik WAV souborů). Vyzkoušejte délky prediktoru od P=2 do P=20. Pro každou délku vyhodnoťte na všech 100 signálech SNR a spočítejte redukci SNR oproti původnímu stavu (SNRR - v procentech). \n",
        "\n",
        "---\n"
      ],
      "metadata": {
        "id": "-495BmUrp9t9"
      }
    },
    {
      "cell_type": "markdown",
      "source": [
        "### Vaše řešení:\n",
        "\n",
        "Popište vaše řešení"
      ],
      "metadata": {
        "id": "ADUM9vRursbS"
      }
    },
    {
      "cell_type": "code",
      "source": [
        "# Místo pro kód"
      ],
      "metadata": {
        "id": "PG2ObBLdp-FM"
      },
      "execution_count": null,
      "outputs": []
    },
    {
      "cell_type": "markdown",
      "source": [
        "## Úloha 4 - Oprava pomocí predikce zprava - ` 4 body`\n",
        "\n",
        "Zopakujte předchozí cvičení, ale tentokrát predikujte klipované vzorky zprava (tedy z budoucnosti). Ve výpočtech budete tedy muset obracet signály nebo použít nekauzální filtry. Udělejte to samé, co v minulé cvičení, tedy vzorky k zobrazení a poslechu, závislost SNR a SNRR na délce prediktoru."
      ],
      "metadata": {
        "id": "qcTMl5-uqR1m"
      }
    },
    {
      "cell_type": "markdown",
      "source": [
        "### Vaše řešení:\n",
        "\n",
        "Popište vaše řešení"
      ],
      "metadata": {
        "id": "5nu_dxvqrs5e"
      }
    },
    {
      "cell_type": "code",
      "source": [
        "# Místo pro kód"
      ],
      "metadata": {
        "id": "tMLINWLsqSh2"
      },
      "execution_count": null,
      "outputs": []
    },
    {
      "cell_type": "markdown",
      "source": [
        "## Úloha 5 - Lineární kombinace obou predikcí - ` 4 body`\n",
        "\n",
        "Pro klipované vzorky proveďte lineární kombinaci obou predikcí, můžete vyzkoušet různé interpolace (s konstantními váhami 0,5 a 0,5, s klesajícím oknem zleva a stoupajícím zprava, cokoliv jiného). Proveďte opět ty samé kroky jako v minulých cvičeních, tedy vzorky k zobrazení a poslechu, závislost SNR a SNRR na délce prediktoru. \n",
        "\n",
        "---\n"
      ],
      "metadata": {
        "id": "_17plzgQqUsj"
      }
    },
    {
      "cell_type": "markdown",
      "source": [
        "### Vaše řešení:\n",
        "\n",
        "Popište vaše řešení"
      ],
      "metadata": {
        "id": "2kAYC7uBr6T3"
      }
    },
    {
      "cell_type": "code",
      "source": [
        "# Místo pro kód"
      ],
      "metadata": {
        "id": "h_AO5EEpqVBG"
      },
      "execution_count": null,
      "outputs": []
    },
    {
      "cell_type": "markdown",
      "source": [
        "## Úloha 6 - Cokoliv lepšího - ` 12 bodů`\n",
        "\n",
        "Navrhněte a implementujte jakékoliv zlepšení rekonstrukce, možné příklady jsou: \n",
        "\n",
        "*   Optimalizace délky okna. \n",
        "*   Korektní práce s minulými či budoucími vzorky, pokud je za sebou více klipovaných částí (neměly by vstupovat do korelace pro výpočet R[k] a už vůbec ne do predikce vzorků)\n",
        "*   Využití dynamické délky okna a dynamické délky prediktoru podle charakteru signálu. \n",
        "* Dlouhodobá predikce využívající základního tónu. \n",
        "* Analytické odvození, jak má predikce vzorků probíhat simultánně z levého či pravého kontextu nebo nalezení v literatuře a implementace. \n",
        "* Využití strojového učení (např. neuronová síť predikující vzorky)\n",
        "* Cokoliv jiného  \n",
        "\n",
        "Pro navrženou metodu proveďte opět ty samé kroky jako v minulých cvičeních, tedy vzorky k zobrazení a poslechu, a výpočet závislost SNR a SNRR. Komentujte výsledky. **Toto cvičení se bude obhajovat v pondělí 15. května**, nachystajte si prosím max. 10-minutovou presentaci - pár slajdů s popisem, co jste dělali, SNRR, ploty. \n",
        "\n",
        "---\n",
        "\n",
        "\n",
        "\n"
      ],
      "metadata": {
        "id": "Y5w2FphSqVXG"
      }
    },
    {
      "cell_type": "markdown",
      "source": [
        "### Vaše řešení:\n",
        "\n",
        "Popište vaše řešení"
      ],
      "metadata": {
        "id": "N48mjzACr6xG"
      }
    },
    {
      "cell_type": "code",
      "source": [
        "# Místo pro kód"
      ],
      "metadata": {
        "id": "1e-xELmrqV7d"
      },
      "execution_count": null,
      "outputs": []
    },
    {
      "cell_type": "markdown",
      "source": [
        "# Hodnocení\n",
        "\n",
        "Viz zadání. Jak je v ZRE zvykem, student/ka s nejinovativnějším / nejzajímavějším řešením dostane láhev dobrého červeného."
      ],
      "metadata": {
        "id": "jHP1fN-yp-e0"
      }
    },
    {
      "cell_type": "markdown",
      "source": [
        "# Speciální projekty\n",
        "\n",
        "Pokud máte zájem o zpracován jiného zadání (např. rozpoznávání řeči, jazyka, mluvčího), nebo na něčem děláte v rámci BP / DP / projektové praxe / ve firmě, atd., prosím kontaktujte mě co nejdříve. Co nejdříve se osobně domluvíme, zadání musím předem odsouhlasit."
      ],
      "metadata": {
        "id": "Jmb8caNVsaV4"
      }
    }
  ]
}