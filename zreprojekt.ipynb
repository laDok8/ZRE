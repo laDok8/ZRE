{
 "nbformat": 4,
 "nbformat_minor": 0,
 "metadata": {
  "colab": {
   "provenance": []
  },
  "kernelspec": {
   "name": "python3",
   "language": "python",
   "display_name": "Python 3 (ipykernel)"
  },
  "language_info": {
   "name": "python"
  }
 },
 "cells": [
  {
   "cell_type": "markdown",
   "source": [
    "# ZRE Projekt - 2023\n",
    "#### Honza Černocký a Honza Pavlus, FIT VUT Brno, 2023\n",
    "#### ` Celkem bodů 29`\n",
    "---\n",
    "\n",
    "Principem projektu oprava signálů narušených klipováním pomocí lineární predikce nebo jiných technik. Nachystali jsme 100 signálů z TIMITu tak, že máte k disposici originál i klipovanou verzi. Klipovaná verze simuluje ztrátu nejvyššího bitu. Signály a seznam viz https://www.fit.vutbr.cz/study/courses/ZRE/public/2022-23/. \n",
    "\n",
    "Projekt doporučujeme řešit v Pythonu v Google Colab, ale je možné použít i jiný jazyk / prostředí, v tomto případě prosím zašlete protokol a zdrojáky emailem.  \n",
    "\n",
    "---\n",
    "\n"
   ],
   "metadata": {
    "id": "_gWXWrmcppeS"
   }
  },
  {
   "cell_type": "code",
   "source": [
    "# nacteni signalu a listu, at to nemusite hledat\n",
    "import os\n",
    "\n",
    "import librosa as librosa\n",
    "\n",
    "if not os.path.exists('proj_zre_2023.tgz'):\n",
    "    !wget https://www.fit.vutbr.cz/study/courses/ZRE/public/2022-23/proj_zre_2023.tgz\n",
    "    !tar xfz proj_zre_2023.tgz\n",
    "!ls\n",
    "\n",
    "# make graphs interactive\n",
    "!pip install mpld3\n",
    "%matplotlib inline\n",
    "import scipy\n",
    "import mpld3\n",
    "mpld3.enable_notebook()"
   ],
   "metadata": {
    "colab": {
     "base_uri": "https://localhost:8080/"
    },
    "id": "5cjqGGmbbsI2",
    "outputId": "642b3984-5f6a-4aec-9a56-b32ba38b23cd",
    "ExecuteTime": {
     "start_time": "2023-04-22T11:57:39.373743Z",
     "end_time": "2023-04-22T11:57:39.569303Z"
    }
   },
   "execution_count": null,
   "outputs": []
  },
  {
   "cell_type": "markdown",
   "source": [
    "## Úloha 1 - Detektor klipovaných signálů - `2 body `\n",
    "\n",
    "Navrhněte a naprogramujte detektor klipovaných částí signálu. Pozor, klipované mohou být jak kladné, tak záporné vzorky. Zobrazte několik příkladů těchto klipovaných částí v časové a ve frekvenční oblasti (spektrogram). \n",
    "\n",
    "---"
   ],
   "metadata": {
    "id": "Uyxg0WC0poqc"
   }
  },
  {
   "cell_type": "markdown",
   "source": [
    "### Vaše řešení:\n",
    "\n",
    "Popište vaše řešení"
   ],
   "metadata": {
    "id": "03pBjCk0rrTI"
   }
  },
  {
   "cell_type": "code",
   "source": [
    "import numpy as np\n",
    "import scipy.io.wavfile as wav\n",
    "import matplotlib.pyplot as plt\n",
    "import librosa\n",
    "\n",
    "Fs = 16000\n",
    "# load files\n",
    "def load_dir(path):\n",
    "    folder, _, files = next(os.walk(path))\n",
    "    #signals, srs = zip(*[librosa.load(os.path.join(folder, f),sr=None) for f in files])\n",
    "    srs, signals = zip(*[wav.read(os.path.join(folder, f)) for f in files])\n",
    "    #signals = [s.astype(np.float32) / 2**15 for s in signals]\n",
    "    assert all(np.array(srs) == Fs)\n",
    "    return tuple(np.array(s - np.mean(np.array(s))) for s in signals)\n",
    "\n",
    "signals_clp = load_dir('clipped_signals')\n",
    "signals_orig = load_dir('orig_signals')\n",
    "\n",
    "def detect_clipped(signal):\n",
    "    # try to detect threshold\n",
    "    mx = np.max(signal)\n",
    "    # return indices of clipped samples\n",
    "    return np.array(np.where(np.abs(signal) >= mx))\n",
    "\n",
    "def plot_clipped(signal, clipped_indices, spectr=False, title=None):\n",
    "    # try to find part where clipping is \"most\" visible\n",
    "    mid = np.median(clipped_indices).astype(int)\n",
    "    # get frame around mid\n",
    "    src = signal[mid-256:mid+256]\n",
    "    clipped_src = clipped_indices - mid\n",
    "    clipped_i = np.where(np.abs(clipped_src) < 256)[1]\n",
    "    clipped_src = clipped_src[0][clipped_i] + 256\n",
    "\n",
    "    # plot frame and it's spectrogram\n",
    "    plt.figure(figsize=(20, 10))\n",
    "    plt.subplot(2, 1, 1)\n",
    "    plt.title(title)\n",
    "    plt.plot(src)\n",
    "    plt.scatter(clipped_src, src[clipped_src], c='r')\n",
    "    plt.gca().axes.get_yaxis().set_label_text('Sample')\n",
    "    if spectr:\n",
    "        plt.subplot(2, 1, 2)\n",
    "        plt.specgram(src, Fs=16000)\n",
    "        plt.gca().axes.get_xaxis().set_visible(False)\n",
    "        plt.gca().axes.get_yaxis().set_label_text('Hz')\n",
    "    plt.show()\n",
    "\n",
    "test_file_clp = signals_clp[0]\n",
    "clipped = detect_clipped(test_file_clp)\n",
    "plot_clipped(test_file_clp, clipped, spectr=True, title=\"Clipped signal\")"
   ],
   "metadata": {
    "id": "BFyI3xxBp2i_",
    "ExecuteTime": {
     "start_time": "2023-04-22T15:04:36.635332Z",
     "end_time": "2023-04-22T15:04:36.972022Z"
    }
   },
   "execution_count": null,
   "outputs": []
  },
  {
   "cell_type": "markdown",
   "source": [
    "## Úloha 2 - Výpočet SNR - `2 body `\n",
    "\n",
    "Napište funkci pro výpočet poměru signálu k šumu, kde šum (jmenovatel) bude chyba (rozdíl mezi klipovaným signálem a originálem) a signál (čitatel) je originální signál. Spočítejte SNR způsobené klipováním pro všech 100 signálů. Berte je v úvahu celé, nejen klipované části.\n",
    "\n",
    "---"
   ],
   "metadata": {
    "id": "ryM04KCyp2Nt"
   }
  },
  {
   "cell_type": "markdown",
   "source": [
    "### Vaše řešení:\n",
    "\n",
    "$ SNR = 10 \\cdot \\log_{10} \\left( \\frac{\\sum_{i=1}^{N} x_i^2}{\\sum_{i=1}^{N} (x_i - y_i)^2} \\right) $\n",
    "\n",
    "\n",
    "Popište vaše řešení"
   ],
   "metadata": {
    "id": "yLJ2O3e2rr1H"
   }
  },
  {
   "cell_type": "code",
   "source": [
    "def snr(orig, modified):\n",
    "    return 10 * np.log10(np.sum(orig**2) / np.sum((orig - modified)**2))\n",
    "test_file_orig = signals_orig[0]\n",
    "test_file_clp = signals_clp[0]\n",
    "print(\"sample SNR:\", snr(test_file_orig, test_file_clp), \"dB\")\n",
    "\n"
   ],
   "metadata": {
    "id": "yE2cCux8p9X_",
    "ExecuteTime": {
     "start_time": "2023-04-22T14:23:44.730087Z",
     "end_time": "2023-04-22T14:23:44.749291Z"
    }
   },
   "execution_count": null,
   "outputs": []
  },
  {
   "cell_type": "markdown",
   "source": [
    "## Úloha 3 - Oprava pomocí predikce zleva - ` 5 bodů`\n",
    "\n",
    "Napište funkci, která bude opravovat klipované části. Měla by pracovat tak, že na L=240 vzorcích signálu před klipovanou částí odhadne koeficienty prediktoru a ten využije k náhradě klipovaných vzorků predikcí z minulosti. Vyberte 2 opravené segmenty a zobrazte je. Připravte dvě promluvy k přehrání (pokud budete pracovat v Py notebooku, přímo v něm, pokud v něčem jiném, jako několik WAV souborů). Vyzkoušejte délky prediktoru od P=2 do P=20. Pro každou délku vyhodnoťte na všech 100 signálech SNR a spočítejte redukci SNR oproti původnímu stavu (SNRR - v procentech). \n",
    "\n",
    "---\n"
   ],
   "metadata": {
    "id": "-495BmUrp9t9"
   }
  },
  {
   "cell_type": "markdown",
   "source": [
    "### Vaše řešení:\n",
    "\n",
    "Popište vaše řešení"
   ],
   "metadata": {
    "id": "ADUM9vRursbS"
   }
  },
  {
   "cell_type": "code",
   "execution_count": null,
   "outputs": [],
   "source": [
    "def lpc(signal, ordr):\n",
    "    #r = np.correlate(signal,signal, mode='full')\n",
    "    #r = r[len(r)//2:len(r)//2 + ordr + 1]\n",
    "    #a = np.linalg.inv(scipy.linalg.toeplitz(r[:-2])) @ -r[1:-1]\n",
    "    a = librosa.lpc(signal, order=ordr-1)[1:]\n",
    "    return a,np.hstack([1.0, -a])\n",
    "\n",
    "def fix_LPC(signal, p=20, l=240):\n",
    "    clips = detect_clipped(signal)\n",
    "    repaired = signal.copy()\n",
    "    for i in clips[0]:\n",
    "        if i+l > len(repaired):\n",
    "            break\n",
    "        a,b = lpc(repaired[i - l:i], p)\n",
    "        repaired[i] = scipy.signal.lfilter(-a, [1.0], repaired[i - l:i])[-1]\n",
    "    return repaired\n",
    "\n",
    "\n",
    "signals_leftLPC = []\n",
    "for i in range(2): # TODO remove 2 len(signals_orig)\n",
    "    print(\"\\n File \", i, \":\")\n",
    "    clp,orig = signals_clp[i], signals_orig[i]\n",
    "    snr_denom = snr(orig,clp)\n",
    "    for p in range(2,21,18): # TODO remove 18 -> 1,2\n",
    "        repr = fix_LPC(clp)\n",
    "        snr_num = snr(orig,repr)\n",
    "        print(\"P=\",p,\" SNRR=\",round((snr_num/snr_denom)*100,0),\"%\\t\")\n",
    "        if p == 20:\n",
    "            signals_leftLPC.append(repr)\n",
    "\n"
   ],
   "metadata": {
    "collapsed": false,
    "ExecuteTime": {
     "start_time": "2023-04-22T15:19:44.177086Z",
     "end_time": "2023-04-22T15:19:44.481062Z"
    }
   }
  },
  {
   "cell_type": "code",
   "execution_count": null,
   "outputs": [],
   "source": [
    "from IPython.display import Audio\n",
    "cl1 = 0\n",
    "#clipped = detect_clipped(signals_leftLPC[cl1])\n",
    "#plot_clipped(signals_clp[cl1], clipped, title=\"Clipped signal\")\n",
    "#plot_clipped(signals_leftLPC[cl1], clipped,title=\"Repaired signal\")\n",
    "\n",
    "fix, ax = plt.subplots()\n",
    "ax.plot(signals_orig[cl1], label=\"original\")\n",
    "ax.plot(signals_leftLPC[cl1], label=\"repaired\")\n",
    "ax.plot(signals_clp[cl1], label=\"clipped\")\n",
    "ax.plot(signals_leftLPC[cl1] - signals_clp[cl1], label=\"healed\")\n",
    "ax.legend()\n",
    "plt.show()\n",
    "\n",
    "\n",
    "Audio(signals_leftLPC[cl1], rate=Fs, normalize = False)"
   ],
   "metadata": {
    "collapsed": false
   }
  },
  {
   "cell_type": "code",
   "execution_count": null,
   "outputs": [],
   "source": [
    "cl1 = 1\n",
    "\n",
    "fix, ax = plt.subplots()\n",
    "ax.plot(signals_orig[cl1], label=\"original\")\n",
    "ax.plot(signals_leftLPC[cl1], label=\"repaired\")\n",
    "ax.plot(signals_clp[cl1], label=\"clipped\")\n",
    "ax.plot(signals_leftLPC[cl1] - signals_clp[cl1], label=\"healed\")\n",
    "ax.legend()\n",
    "plt.show()\n",
    "\n",
    "\n",
    "Audio(signals_leftLPC[cl1], rate=Fs, normalize = False)"
   ],
   "metadata": {
    "collapsed": false
   }
  },
  {
   "cell_type": "markdown",
   "source": [
    "## Úloha 4 - Oprava pomocí predikce zprava - ` 4 body`\n",
    "\n",
    "Zopakujte předchozí cvičení, ale tentokrát predikujte klipované vzorky zprava (tedy z budoucnosti). Ve výpočtech budete tedy muset obracet signály nebo použít nekauzální filtry. Udělejte to samé, co v minulé cvičení, tedy vzorky k zobrazení a poslechu, závislost SNR a SNRR na délce prediktoru."
   ],
   "metadata": {
    "id": "qcTMl5-uqR1m"
   }
  },
  {
   "cell_type": "markdown",
   "source": [
    "### Vaše řešení:\n",
    "\n",
    "Popište vaše řešení"
   ],
   "metadata": {
    "id": "5nu_dxvqrs5e"
   }
  },
  {
   "cell_type": "code",
   "source": [
    "# invert signal and predict\n",
    "signals_rightLPC = []\n",
    "for i in range(2): # TODO remove 2 len(signals_orig)\n",
    "    clp,orig = signals_clp[i], signals_orig[i]\n",
    "    clp,orig = clp[::-1], orig[::-1]\n",
    "    snr_denom = snr(orig,clp)\n",
    "    for p in range(2,21,18): # TODO remove 18 -> 1,2\n",
    "        repr = fix_LPC(clp)\n",
    "        snr_num = snr(orig,repr)\n",
    "        print(\"P=\",p,\" SNRR=\",round((snr_num/snr_denom)*100,0),\"%\\t\")\n",
    "        if p == 20:\n",
    "            signals_rightLPC.append(repr[::-1])"
   ],
   "metadata": {
    "id": "tMLINWLsqSh2",
    "ExecuteTime": {
     "start_time": "2023-04-22T11:11:43.016818Z",
     "end_time": "2023-04-22T11:11:43.131647Z"
    }
   },
   "execution_count": null,
   "outputs": []
  },
  {
   "cell_type": "code",
   "execution_count": null,
   "outputs": [],
   "source": [
    "cl1 = 0\n",
    "\n",
    "fix, ax = plt.subplots()\n",
    "ax.plot(signals_orig[cl1], label=\"original\")\n",
    "ax.plot(signals_rightLPC[cl1], label=\"repaired\")\n",
    "ax.plot(signals_clp[cl1], label=\"clipped\")\n",
    "ax.plot(signals_rightLPC[cl1] - signals_clp[cl1], label=\"healed\")\n",
    "ax.legend()\n",
    "plt.show()\n",
    "\n",
    "\n",
    "Audio(signals_rightLPC[cl1], rate=Fs, normalize = False)"
   ],
   "metadata": {
    "collapsed": false
   }
  },
  {
   "cell_type": "code",
   "execution_count": null,
   "outputs": [],
   "source": [
    "cl1 = 1\n",
    "\n",
    "fix, ax = plt.subplots()\n",
    "ax.plot(signals_orig[cl1], label=\"original\")\n",
    "ax.plot(signals_rightLPC[cl1], label=\"repaired\")\n",
    "ax.plot(signals_clp[cl1], label=\"clipped\")\n",
    "ax.plot(signals_rightLPC[cl1] - signals_clp[cl1], label=\"healed\")\n",
    "ax.legend()\n",
    "plt.show()\n",
    "\n",
    "\n",
    "Audio(signals_rightLPC[cl1], rate=Fs, normalize = False)"
   ],
   "metadata": {
    "collapsed": false
   }
  },
  {
   "cell_type": "markdown",
   "source": [
    "## Úloha 5 - Lineární kombinace obou predikcí - ` 4 body`\n",
    "\n",
    "Pro klipované vzorky proveďte lineární kombinaci obou predikcí, můžete vyzkoušet různé interpolace (s konstantními váhami 0,5 a 0,5, s klesajícím oknem zleva a stoupajícím zprava, cokoliv jiného). Proveďte opět ty samé kroky jako v minulých cvičeních, tedy vzorky k zobrazení a poslechu, závislost SNR a SNRR na délce prediktoru. \n",
    "\n",
    "---\n"
   ],
   "metadata": {
    "id": "_17plzgQqUsj"
   }
  },
  {
   "cell_type": "markdown",
   "source": [
    "### Vaše řešení:\n",
    "\n",
    "Popište vaše řešení"
   ],
   "metadata": {
    "id": "2kAYC7uBr6T3"
   }
  },
  {
   "cell_type": "code",
   "source": [
    "weight = 0.5\n",
    "signals_combinedLPC = []\n",
    "for i in range(2): # TODO remove 2 len(signals_orig)\n",
    "    print(\"\\n File \", i, \":\")\n",
    "    clp,orig = signals_clp[i], signals_orig[i]\n",
    "    snr_denom = snr(orig,clp)\n",
    "    for p in range(2,21,18): # TODO remove 18 -> 1,2\n",
    "        left_lpc = fix_LPC(clp)\n",
    "        right_lpc = fix_LPC(clp[::-1])[::-1]\n",
    "        combined  = left_lpc * weight + right_lpc * (1-weight)\n",
    "        snr_nom = snr(orig,combined)\n",
    "        print(\"P=\",p,\" SNRR=\",round((snr_nom/snr_denom)*100,0),\"%\\t\")\n",
    "        #append if last\n",
    "        if p == 20:\n",
    "            signals_combinedLPC.append(combined)\n"
   ],
   "metadata": {
    "id": "h_AO5EEpqVBG",
    "ExecuteTime": {
     "start_time": "2023-04-22T11:11:43.023912Z",
     "end_time": "2023-04-22T11:11:43.132127Z"
    }
   },
   "execution_count": null,
   "outputs": []
  },
  {
   "cell_type": "code",
   "execution_count": null,
   "outputs": [],
   "source": [
    "cl1 = 0\n",
    "\n",
    "fix, ax = plt.subplots()\n",
    "ax.plot(signals_orig[cl1], label=\"original\")\n",
    "ax.plot(signals_combinedLPC[cl1], label=\"repaired\")\n",
    "ax.plot(signals_clp[cl1], label=\"clipped\")\n",
    "ax.plot(signals_combinedLPC[cl1] - signals_clp[cl1], label=\"healed\")\n",
    "ax.legend()\n",
    "plt.show()\n",
    "\n",
    "\n",
    "Audio(signals_combinedLPC[cl1], rate=Fs, normalize = False)"
   ],
   "metadata": {
    "collapsed": false
   }
  },
  {
   "cell_type": "code",
   "execution_count": null,
   "outputs": [],
   "source": [
    "cl1 = 1\n",
    "\n",
    "fix, ax = plt.subplots()\n",
    "ax.plot(signals_orig[cl1], label=\"original\")\n",
    "ax.plot(signals_combinedLPC[cl1], label=\"repaired\")\n",
    "ax.plot(signals_clp[cl1], label=\"clipped\")\n",
    "ax.plot(signals_combinedLPC[cl1] - signals_clp[cl1], label=\"healed\")\n",
    "ax.legend()\n",
    "plt.show()\n",
    "\n",
    "\n",
    "Audio(signals_combinedLPC[cl1], rate=Fs, normalize = False)"
   ],
   "metadata": {
    "collapsed": false
   }
  },
  {
   "cell_type": "markdown",
   "source": [
    "## Úloha 6 - Cokoliv lepšího - ` 12 bodů`\n",
    "\n",
    "Navrhněte a implementujte jakékoliv zlepšení rekonstrukce, možné příklady jsou: \n",
    "\n",
    "*   Optimalizace délky okna. \n",
    "*   Korektní práce s minulými či budoucími vzorky, pokud je za sebou více klipovaných částí (neměly by vstupovat do korelace pro výpočet R[k] a už vůbec ne do predikce vzorků)\n",
    "*   Využití dynamické délky okna a dynamické délky prediktoru podle charakteru signálu. \n",
    "* Dlouhodobá predikce využívající základního tónu. \n",
    "* Analytické odvození, jak má predikce vzorků probíhat simultánně z levého či pravého kontextu nebo nalezení v literatuře a implementace. \n",
    "* Využití strojového učení (např. neuronová síť predikující vzorky)\n",
    "* Cokoliv jiného  \n",
    "\n",
    "Pro navrženou metodu proveďte opět ty samé kroky jako v minulých cvičeních, tedy vzorky k zobrazení a poslechu, a výpočet závislost SNR a SNRR. Komentujte výsledky. **Toto cvičení se bude obhajovat v pondělí 15. května**, nachystajte si prosím max. 10-minutovou presentaci - pár slajdů s popisem, co jste dělali, SNRR, ploty. \n",
    "\n",
    "---\n",
    "\n",
    "\n",
    "\n"
   ],
   "metadata": {
    "id": "Y5w2FphSqVXG"
   }
  },
  {
   "cell_type": "markdown",
   "source": [
    "### Vaše řešení:\n",
    "\n",
    "Popište vaše řešení"
   ],
   "metadata": {
    "id": "N48mjzACr6xG"
   }
  },
  {
   "cell_type": "code",
   "source": [
    "def DCT_dictionary(frame_size=256, redundancy_factor=2):\n",
    "    \"\"\"\n",
    "    DCT dictionary of size (frame_size)x(frame_size*redundancy_factor)\n",
    "    \"\"\"\n",
    "\n",
    "    m = frame_size * redundancy_factor\n",
    "    wa = np.hamming(frame_size) # analysis window TODO: don't\n",
    "\n",
    "    t = np.arange(frame_size)  # time\n",
    "    k = np.arange(m)  # frequency\n",
    "\n",
    "    D = np.cos(np.pi/m * np.dot((t[np.newaxis, :].T+1/2), k[np.newaxis, :]+1/2))\n",
    "\n",
    "    D = np.diag(wa).dot(D) # Analysis window\n",
    "    D = D/np.sqrt(np.sum(D**2,0)) # normalize columns\n",
    "    return\tD\n",
    "\n",
    "def consistentIHT(signal, clipped_samples_mat, D, iters = 100, non_zero = 32):\n",
    "    \"\"\"\n",
    "    Consistent iterative hard thresholding for signal declipping, Kitic et al, ICASSP 2013\n",
    "\n",
    "    Inputs:\n",
    "        - clipped_samples_mat: bool vector, True if sample is clipped\n",
    "        - D: fixed DCT dictionary\n",
    "\n",
    "    Outputs:\n",
    "        - A: sparse activation matrix\n",
    "        - cost: loss vector\n",
    "    \"\"\"\n",
    "\n",
    "    # initialize sparse coefficient matrix:\n",
    "    a = np.zeros((D.shape[1]))\n",
    "\n",
    "    mu = 1/np.linalg.norm(D,2)**2  # gradient descent parameter\n",
    "\n",
    "    clipped_pos = np.logical_and(clipped_samples_mat, signal >= 0) # positive clipped samples\n",
    "    clipped_neg = np.logical_and(clipped_samples_mat, signal <= 0) # negative clipped samples\n",
    "\n",
    "    cost = np.nan*np.empty(iters+1) # save cost at each iteration\n",
    "\n",
    "    # compute residual:\n",
    "    residual = signal - D @ a\n",
    "    # enforce clipping consistency:\n",
    "    residual[clipped_pos] = np.maximum(residual[clipped_pos],0)\n",
    "    residual[clipped_neg] = np.minimum(residual[clipped_neg],0)\n",
    "\n",
    "    cost[0] = np.sum(residual**2)\n",
    "\n",
    "    for it in range(1,iters):\n",
    "        # gradient descent step:\n",
    "        a = a + mu * D.T@residual\n",
    "\n",
    "        # hard thresholding:\n",
    "        a = a * (abs(a) >= np.sort(np.abs(a),0)[a.shape[0]-non_zero])\n",
    "\n",
    "        # compute residual:\n",
    "        residual = signal - D @ a\n",
    "        # enforce clipping consistency:\n",
    "        residual[clipped_pos] = np.maximum(residual[clipped_pos],0)\n",
    "        residual[clipped_neg] = np.minimum(residual[clipped_neg],0)\n",
    "\n",
    "        # compute cost:\n",
    "        cost[it] = np.sum(residual**2)\n",
    "        if cost[it] < 1e-4:\n",
    "            break\n",
    "\n",
    "    return a, cost\n",
    "\n",
    "\n",
    "def repair_clipped(signal):\n",
    "    \"\"\"\n",
    "    Repair clipped samples using consistent iterative hard thresholding\n",
    "    \"\"\"\n",
    "    mx = np.max(signal)\n",
    "    clipped_samples = np.logical_or(signal<=-mx,signal>=mx)\n",
    "    a, _ = consistentIHT(signal,clipped_samples,D_DCT)\n",
    "    return D_DCT@a\n",
    "\n",
    "D_DCT = DCT_dictionary()\n"
   ],
   "metadata": {
    "id": "1e-xELmrqV7d",
    "ExecuteTime": {
     "start_time": "2023-04-22T11:11:43.082589Z",
     "end_time": "2023-04-22T11:11:43.132433Z"
    }
   },
   "execution_count": null,
   "outputs": []
  },
  {
   "cell_type": "code",
   "execution_count": null,
   "outputs": [],
   "source": [
    "\n",
    "\n"
   ],
   "metadata": {
    "collapsed": false
   }
  },
  {
   "cell_type": "markdown",
   "source": [
    "# Hodnocení\n",
    "\n",
    "Viz zadání. Jak je v ZRE zvykem, student/ka s nejinovativnějším / nejzajímavějším řešením dostane láhev dobrého červeného."
   ],
   "metadata": {
    "id": "jHP1fN-yp-e0"
   }
  }
 ]
}
